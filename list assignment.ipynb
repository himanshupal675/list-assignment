{
 "cells": [
  {
   "cell_type": "markdown",
   "id": "6218f183-3575-4e73-9134-563d3177b93b",
   "metadata": {},
   "source": [
    "## Answer 1 "
   ]
  },
  {
   "cell_type": "markdown",
   "id": "0d811af6-a55c-4d11-81a8-b7758320f33a",
   "metadata": {},
   "source": [
    "list.append(elem) -- adds a single element to the end of the list. Common error: does not return the new list, just modifies the original.\n",
    "\n",
    "list.insert(index, elem) -- inserts the element at the given index, shifting elements to the right.\n",
    "\n",
    "list.extend(list2) adds the elements in list2 to the end of the list. Using + or += on a list is similar to using extend()."
   ]
  },
  {
   "cell_type": "markdown",
   "id": "a5c59549-d2e5-440c-9982-8de8c463bcd5",
   "metadata": {},
   "source": [
    "## Answer 2"
   ]
  },
  {
   "cell_type": "markdown",
   "id": "b817e69d-a368-4f17-b9ba-cb73c423d57f",
   "metadata": {},
   "source": [
    "The major difference between the pop() method and the remove() method is that the pop() method uses the index of an element to delete it while the remove() method takes the value of the element as an input argument to delete the element as we have already seen above."
   ]
  },
  {
   "cell_type": "markdown",
   "id": "20dee566-50ee-41b3-bda0-81ed8e71bba3",
   "metadata": {},
   "source": [
    "## Answer 3"
   ]
  },
  {
   "cell_type": "markdown",
   "id": "9d121f06-8074-4f9f-9f48-7204ff6adabc",
   "metadata": {},
   "source": [
    "To sort list items in descending order, you need to use the optional reverse parameter with the sort() method, and set its value to True . Now all the numbers are arranged in reverse, with the largest value being on the left hand side and the smallest on the right."
   ]
  },
  {
   "cell_type": "markdown",
   "id": "86992a24-97e3-433d-9b29-59b8200a9607",
   "metadata": {},
   "source": [
    "## Answer 4"
   ]
  },
  {
   "cell_type": "code",
   "execution_count": null,
   "id": "3a96ce2e-45f8-49ab-b648-7014327f21d4",
   "metadata": {},
   "outputs": [],
   "source": [
    "my_list = [1, 2, 2, 3, 4, 2, 5, 2]  # Example list\n",
    "element = 2                        # Element to count\n",
    "\n",
    "count = my_list.count(element)\n",
    "print(count)  # Output: 4\n"
   ]
  },
  {
   "cell_type": "markdown",
   "id": "c0f0affe-87b6-4c10-99f5-7a0f2da77e88",
   "metadata": {},
   "source": [
    "## Answer 5"
   ]
  },
  {
   "cell_type": "code",
   "execution_count": null,
   "id": "a938fff6-aa98-45e9-8af1-a35bdbd8fe58",
   "metadata": {},
   "outputs": [],
   "source": [
    "my_list = [1, 2, 3, 4, 5]  # Example list\n",
    "\n",
    "reversed_list = my_list[::-1]\n",
    "print(reversed_list)  # Output: [5, 4, 3, 2, 1]\n"
   ]
  },
  {
   "cell_type": "code",
   "execution_count": null,
   "id": "bda4c445-7b35-4468-a6c4-0b036470f9ab",
   "metadata": {},
   "outputs": [],
   "source": []
  }
 ],
 "metadata": {
  "kernelspec": {
   "display_name": "Python 3 (ipykernel)",
   "language": "python",
   "name": "python3"
  },
  "language_info": {
   "codemirror_mode": {
    "name": "ipython",
    "version": 3
   },
   "file_extension": ".py",
   "mimetype": "text/x-python",
   "name": "python",
   "nbconvert_exporter": "python",
   "pygments_lexer": "ipython3",
   "version": "3.10.8"
  }
 },
 "nbformat": 4,
 "nbformat_minor": 5
}
